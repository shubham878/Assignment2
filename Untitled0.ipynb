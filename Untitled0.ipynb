{
  "nbformat": 4,
  "nbformat_minor": 0,
  "metadata": {
    "colab": {
      "name": "Untitled0.ipynb",
      "provenance": [],
      "collapsed_sections": [],
      "authorship_tag": "ABX9TyPduV5p1ELa84dJ+Yq/YTfH",
      "include_colab_link": true
    },
    "kernelspec": {
      "name": "python3",
      "display_name": "Python 3"
    },
    "language_info": {
      "name": "python"
    }
  },
  "cells": [
    {
      "cell_type": "markdown",
      "metadata": {
        "id": "view-in-github",
        "colab_type": "text"
      },
      "source": [
        "<a href=\"https://colab.research.google.com/github/shubham878/Assignment2/blob/master/Untitled0.ipynb\" target=\"_parent\"><img src=\"https://colab.research.google.com/assets/colab-badge.svg\" alt=\"Open In Colab\"/></a>"
      ]
    },
    {
      "cell_type": "code",
      "metadata": {
        "colab": {
          "base_uri": "https://localhost:8080/"
        },
        "id": "J57Ntm91LuCl",
        "outputId": "80c02251-d49f-490a-92ac-f0eed398e9c0"
      },
      "source": [
        "pip install newspaper3k"
      ],
      "execution_count": 1,
      "outputs": [
        {
          "output_type": "stream",
          "text": [
            "Collecting newspaper3k\n",
            "\u001b[?25l  Downloading https://files.pythonhosted.org/packages/d7/b9/51afecb35bb61b188a4b44868001de348a0e8134b4dfa00ffc191567c4b9/newspaper3k-0.2.8-py3-none-any.whl (211kB)\n",
            "\r\u001b[K     |█▌                              | 10kB 15.8MB/s eta 0:00:01\r\u001b[K     |███                             | 20kB 21.3MB/s eta 0:00:01\r\u001b[K     |████▋                           | 30kB 15.7MB/s eta 0:00:01\r\u001b[K     |██████▏                         | 40kB 14.0MB/s eta 0:00:01\r\u001b[K     |███████▊                        | 51kB 8.2MB/s eta 0:00:01\r\u001b[K     |█████████▎                      | 61kB 9.6MB/s eta 0:00:01\r\u001b[K     |██████████▉                     | 71kB 8.9MB/s eta 0:00:01\r\u001b[K     |████████████▍                   | 81kB 9.4MB/s eta 0:00:01\r\u001b[K     |██████████████                  | 92kB 8.9MB/s eta 0:00:01\r\u001b[K     |███████████████▌                | 102kB 7.8MB/s eta 0:00:01\r\u001b[K     |█████████████████               | 112kB 7.8MB/s eta 0:00:01\r\u001b[K     |██████████████████▋             | 122kB 7.8MB/s eta 0:00:01\r\u001b[K     |████████████████████▏           | 133kB 7.8MB/s eta 0:00:01\r\u001b[K     |█████████████████████▊          | 143kB 7.8MB/s eta 0:00:01\r\u001b[K     |███████████████████████▎        | 153kB 7.8MB/s eta 0:00:01\r\u001b[K     |████████████████████████▉       | 163kB 7.8MB/s eta 0:00:01\r\u001b[K     |██████████████████████████▍     | 174kB 7.8MB/s eta 0:00:01\r\u001b[K     |████████████████████████████    | 184kB 7.8MB/s eta 0:00:01\r\u001b[K     |█████████████████████████████▌  | 194kB 7.8MB/s eta 0:00:01\r\u001b[K     |███████████████████████████████ | 204kB 7.8MB/s eta 0:00:01\r\u001b[K     |████████████████████████████████| 215kB 7.8MB/s \n",
            "\u001b[?25hRequirement already satisfied: python-dateutil>=2.5.3 in /usr/local/lib/python3.7/dist-packages (from newspaper3k) (2.8.1)\n",
            "Collecting jieba3k>=0.35.1\n",
            "\u001b[?25l  Downloading https://files.pythonhosted.org/packages/a9/cb/2c8332bcdc14d33b0bedd18ae0a4981a069c3513e445120da3c3f23a8aaa/jieba3k-0.35.1.zip (7.4MB)\n",
            "\u001b[K     |████████████████████████████████| 7.4MB 8.9MB/s \n",
            "\u001b[?25hRequirement already satisfied: lxml>=3.6.0 in /usr/local/lib/python3.7/dist-packages (from newspaper3k) (4.2.6)\n",
            "Requirement already satisfied: nltk>=3.2.1 in /usr/local/lib/python3.7/dist-packages (from newspaper3k) (3.2.5)\n",
            "Collecting tldextract>=2.0.1\n",
            "\u001b[?25l  Downloading https://files.pythonhosted.org/packages/7e/62/b6acd3129c5615b9860e670df07fd55b76175b63e6b7f68282c7cad38e9e/tldextract-3.1.0-py2.py3-none-any.whl (87kB)\n",
            "\u001b[K     |████████████████████████████████| 92kB 11.3MB/s \n",
            "\u001b[?25hRequirement already satisfied: requests>=2.10.0 in /usr/local/lib/python3.7/dist-packages (from newspaper3k) (2.23.0)\n",
            "Requirement already satisfied: beautifulsoup4>=4.4.1 in /usr/local/lib/python3.7/dist-packages (from newspaper3k) (4.6.3)\n",
            "Collecting feedparser>=5.2.1\n",
            "\u001b[?25l  Downloading https://files.pythonhosted.org/packages/1c/21/faf1bac028662cc8adb2b5ef7a6f3999a765baa2835331df365289b0ca56/feedparser-6.0.2-py3-none-any.whl (80kB)\n",
            "\u001b[K     |████████████████████████████████| 81kB 9.9MB/s \n",
            "\u001b[?25hCollecting tinysegmenter==0.3\n",
            "  Downloading https://files.pythonhosted.org/packages/17/82/86982e4b6d16e4febc79c2a1d68ee3b707e8a020c5d2bc4af8052d0f136a/tinysegmenter-0.3.tar.gz\n",
            "Requirement already satisfied: Pillow>=3.3.0 in /usr/local/lib/python3.7/dist-packages (from newspaper3k) (7.1.2)\n",
            "Requirement already satisfied: PyYAML>=3.11 in /usr/local/lib/python3.7/dist-packages (from newspaper3k) (3.13)\n",
            "Collecting feedfinder2>=0.0.4\n",
            "  Downloading https://files.pythonhosted.org/packages/35/82/1251fefec3bb4b03fd966c7e7f7a41c9fc2bb00d823a34c13f847fd61406/feedfinder2-0.0.4.tar.gz\n",
            "Collecting cssselect>=0.9.2\n",
            "  Downloading https://files.pythonhosted.org/packages/3b/d4/3b5c17f00cce85b9a1e6f91096e1cc8e8ede2e1be8e96b87ce1ed09e92c5/cssselect-1.1.0-py2.py3-none-any.whl\n",
            "Requirement already satisfied: six>=1.5 in /usr/local/lib/python3.7/dist-packages (from python-dateutil>=2.5.3->newspaper3k) (1.15.0)\n",
            "Collecting requests-file>=1.4\n",
            "  Downloading https://files.pythonhosted.org/packages/77/86/cdb5e8eaed90796aa83a6d9f75cfbd37af553c47a291cd47bc410ef9bdb2/requests_file-1.5.1-py2.py3-none-any.whl\n",
            "Requirement already satisfied: filelock>=3.0.8 in /usr/local/lib/python3.7/dist-packages (from tldextract>=2.0.1->newspaper3k) (3.0.12)\n",
            "Requirement already satisfied: idna in /usr/local/lib/python3.7/dist-packages (from tldextract>=2.0.1->newspaper3k) (2.10)\n",
            "Requirement already satisfied: certifi>=2017.4.17 in /usr/local/lib/python3.7/dist-packages (from requests>=2.10.0->newspaper3k) (2020.12.5)\n",
            "Requirement already satisfied: urllib3!=1.25.0,!=1.25.1,<1.26,>=1.21.1 in /usr/local/lib/python3.7/dist-packages (from requests>=2.10.0->newspaper3k) (1.24.3)\n",
            "Requirement already satisfied: chardet<4,>=3.0.2 in /usr/local/lib/python3.7/dist-packages (from requests>=2.10.0->newspaper3k) (3.0.4)\n",
            "Collecting sgmllib3k\n",
            "  Downloading https://files.pythonhosted.org/packages/9e/bd/3704a8c3e0942d711c1299ebf7b9091930adae6675d7c8f476a7ce48653c/sgmllib3k-1.0.0.tar.gz\n",
            "Building wheels for collected packages: jieba3k, tinysegmenter, feedfinder2, sgmllib3k\n",
            "  Building wheel for jieba3k (setup.py) ... \u001b[?25l\u001b[?25hdone\n",
            "  Created wheel for jieba3k: filename=jieba3k-0.35.1-cp37-none-any.whl size=7398406 sha256=c39c7b48790ea795d901a86760e46f44ea204be6def2a0de2e3451e42ddbeec2\n",
            "  Stored in directory: /root/.cache/pip/wheels/83/15/9c/a3f1f67e7f7181170ad37d32e503c35da20627c013f438ed34\n",
            "  Building wheel for tinysegmenter (setup.py) ... \u001b[?25l\u001b[?25hdone\n",
            "  Created wheel for tinysegmenter: filename=tinysegmenter-0.3-cp37-none-any.whl size=13538 sha256=70d6d22f6e8bd267adfb791faf07717abc3403f7011473dfc9fef6d96c5b59e2\n",
            "  Stored in directory: /root/.cache/pip/wheels/81/2b/43/a02ede72324dd40cdd7ca53aad718c7710628e91b8b0dc0f02\n",
            "  Building wheel for feedfinder2 (setup.py) ... \u001b[?25l\u001b[?25hdone\n",
            "  Created wheel for feedfinder2: filename=feedfinder2-0.0.4-cp37-none-any.whl size=3358 sha256=003beed64461dba9a365bd3a85ee92d36e77c845a95b42929fdf8799ee4a36c6\n",
            "  Stored in directory: /root/.cache/pip/wheels/de/03/ca/778e3a7a627e3d98836cc890e7cb40c7575424cfd3340f40ed\n",
            "  Building wheel for sgmllib3k (setup.py) ... \u001b[?25l\u001b[?25hdone\n",
            "  Created wheel for sgmllib3k: filename=sgmllib3k-1.0.0-cp37-none-any.whl size=6067 sha256=a99c84b0c9eec9ffeefa4980123b5c7f08cdd15f217050cdec94ce2b5ede46b4\n",
            "  Stored in directory: /root/.cache/pip/wheels/f1/80/5a/444ba08a550cdd241bd9baf8bae44be750efe370adb944506a\n",
            "Successfully built jieba3k tinysegmenter feedfinder2 sgmllib3k\n",
            "Installing collected packages: jieba3k, requests-file, tldextract, sgmllib3k, feedparser, tinysegmenter, feedfinder2, cssselect, newspaper3k\n",
            "Successfully installed cssselect-1.1.0 feedfinder2-0.0.4 feedparser-6.0.2 jieba3k-0.35.1 newspaper3k-0.2.8 requests-file-1.5.1 sgmllib3k-1.0.0 tinysegmenter-0.3 tldextract-3.1.0\n"
          ],
          "name": "stdout"
        }
      ]
    },
    {
      "cell_type": "code",
      "metadata": {
        "id": "gQc2BF1RL5Xx"
      },
      "source": [
        "import io\n",
        "import random\n",
        "import string # to process standard python strings\n",
        "import warnings\n",
        "import numpy as np\n",
        "from sklearn.feature_extraction.text import CountVectorizer\n",
        "from sklearn.metrics.pairwise import cosine_similarity\n",
        "import warnings\n",
        "from newspaper import Article"
      ],
      "execution_count": 2,
      "outputs": []
    },
    {
      "cell_type": "code",
      "metadata": {
        "id": "qPdIIMaoMDXc"
      },
      "source": [
        "import nltk\n",
        "from nltk.stem import WordNetLemmatizer"
      ],
      "execution_count": 3,
      "outputs": []
    },
    {
      "cell_type": "code",
      "metadata": {
        "colab": {
          "base_uri": "https://localhost:8080/"
        },
        "id": "V7GKx1uGME3N",
        "outputId": "04dd982a-f915-4f9d-8a9b-b1f586168aea"
      },
      "source": [
        "nltk.download('popular', quiet=True)"
      ],
      "execution_count": 4,
      "outputs": [
        {
          "output_type": "execute_result",
          "data": {
            "text/plain": [
              "True"
            ]
          },
          "metadata": {
            "tags": []
          },
          "execution_count": 4
        }
      ]
    },
    {
      "cell_type": "code",
      "metadata": {
        "id": "3-3w2NkSM4Gi",
        "colab": {
          "base_uri": "https://localhost:8080/"
        },
        "outputId": "df8db2bc-02fb-4c48-905a-1fb5bceb2005"
      },
      "source": [
        "f=Article('https://www.unicef.org/india/coronavirus/covid-19')\n",
        "f.download()\n",
        "f.parse()\n",
        "f.nlp()\n",
        "corpus=f.text\n",
        "print(corpus)\n",
        "text=corpus\n",
        "sentence_list=nltk.sent_tokenize(text)"
      ],
      "execution_count": 12,
      "outputs": [
        {
          "output_type": "stream",
          "text": [
            "Should I wear a mask?\n",
            "\n",
            "The use of a mask is advised to protect others even if you have no symptoms.\n",
            "\n",
            "\n",
            "\n",
            "After masks are worn, they must be used and disposed of properly to ensure their effectiveness and to avoid any increased risk of transmitting the virus.\n",
            "\n",
            "The use of a mask alone is not enough to stop infections and must be combined with frequent hand washing with soap and maintaining physical distance.\n",
            "\n",
            "Does COVID-19 affect children?\n",
            "\n",
            "COVID-19 is a new virus, and we are still learning about how it affects children and pregnant women. We know people of any age can be infected and transmit the virus. However, older people and/or those with pre-existing medical conditions seem more likely to develop severe illness. Cold, mild cough, fever, and body pain are the common symptoms of infection. We have also noted that other symptoms such as pain in the abdomen, loose motions, and vomiting are also present in children.\n",
            "\n",
            "Clinical features or symptoms affecting children and adolescents, possibly associated with COVID-19, can include but are not limited to: fever, headache, body pain, tiredness, cough, breathlessness, poor feeding, loss of taste or smell (in a child more than eight years old), rash, red or pink eyes, swollen and/or red lips, tongue, hands, feet, gastrointestinal problems (diarrhoea, vomiting).\n",
            "\n",
            "\n",
            "\n",
            "What should I do if my child has symptoms of COVID-19 or has been in contact with someone who has tested positive?\n",
            "\n",
            "Seek medical attention. If advised by the doctor, then get your child tested for COVID-19. If advised by a doctor isolate/stay home.\n",
            "\n",
            "Record temperature and oxygen saturation with a pulse oximeter if available at home, every 6 hours. Measure their temperature frequently. If it is more than 100-degree F, then you can do tepid sponging with tap water and give them syrup or tablet paracetamol. If fever is >100°F, give paracetamol 10–15 mg/kg/dose.\n",
            "\n",
            "\n",
            "\n",
            "Continue to follow good hand and respiratory hygiene practices like regular handwashing with soap so that your child is protected against other viruses and bacteria causing diseases.\n",
            "\n",
            "\n",
            "\n",
            "Continue to follow personal protective measures for yourself and your child. Your child should wear a surgical mask anytime they are around people. Change the mask after eight hours of continuous wear. Caregivers interacting with the child should wear gloves and a mask.\n",
            "\n",
            "\n",
            "\n",
            "Feed your child home-cooked food and keep them well hydrated. Give plenty of liquids and give a soft and light diet. One may give vitamin C, zinc to boost overall health and immunity\n",
            "\n",
            "\n",
            "\n",
            "Other nutritional supplements like syrup multivitamin, Vitamin C, vitamin D, calcium can be given as per their doctor’s advice.\n",
            "\n",
            "\n",
            "\n",
            "Be watchful for danger signs and if any of these signs are present, seek urgent medical advice at your nearest hospital.\n",
            "\n",
            "\n",
            "\n",
            "Indrawing of chest\n",
            "\n",
            "Grunting sounds\n",
            "\n",
            "The child looks pale or blue\n",
            "\n",
            "Peripheries feel cold\n",
            "\n",
            "Sunken eyeballs and dry mouth\n",
            "\n",
            "Not passed urine for more than 3- 4 hours (for children less than 5 years of age)\n",
            "\n",
            "Refusing to feed\n",
            "\n",
            "Looks drowsy or lethargic\n",
            "\n",
            "Abnormal body movement\n",
            "\n",
            "Severe diarrhea, vomiting or abdominal pain.\n",
            "\n",
            "What is the best way to wash hands properly?\n",
            "\n",
            "Step 1:Wet hands with running water\n",
            "\n",
            "Step 2: Apply enough soap to cover wet hands\n",
            "\n",
            "Step 3: Scrub all surfaces of the hands – including back of hands, between fingers and under nails – for at least 20 seconds\n",
            "\n",
            "Step 4: Rinse thoroughly with running water\n",
            "\n",
            "Step 5: Dry hands with a clean cloth or single-use towel\n",
            "\n",
            "\n",
            "\n",
            "Wash your hands often, especially before eating; after blowing your nose, coughing, or sneezing; and going to the bathroom.\n",
            "\n",
            "\n",
            "\n",
            "If soap and water are not readily available, use an alcohol-based hand sanitizer with at least 60% alcohol. Always wash hands with soap and water, if hands are visibly dirty.\n",
            "\n",
            "What precautions should I take for my family if we travel?\n",
            "\n",
            "Anyone planning a trip overseas should always check the travel advisory for their destination country for any restrictions on entry, quarantine requirements on entry, or other relevant travel advice.\n",
            "\n",
            "In addition to taking standard travel precautions, and in order to avoid being quarantined or denied re-entry into your home country, you are also advised to check the latest COVID-19 update on the International Air Transport Association website, which includes a list of countries and restriction measures.\n",
            "\n",
            "While traveling, all parents should follow standard hygiene measures for themselves and their children: Wash hands frequently or use an alcohol-based sanitizer with at least 60 per cent alcohol, practice good respiratory hygiene (cover your mouth and nose with your bent elbow or tissue when you cough or sneeze and immediately dispose of the used tissue) and avoid close contact with anyone who is coughing or sneezing.\n",
            "\n",
            "\n",
            "\n",
            "In addition, it is recommended that parents always carry a hand sanitizer, pack of disposable tissues, and disinfecting wipes.\n",
            "\n",
            "Additional recommendations include: Clean your seat, armrest, touchscreen, etc. with a disinfecting wipe once inside an aircraft or other vehicle. Also use a disinfecting wipe to clean key surfaces, doorknobs, remote controls, etc at the hotel or other accommodation where you and your children are staying.\n",
            "\n",
            "Can pregnant women pass coronavirus to unborn children?\n",
            "\n",
            "At this time, there is not enough evidence to determine whether the virus is transmitted from a mother to her baby during pregnancy, or the potential impact this may have on the baby. This is currently being investigated. Pregnant women should continue to follow appropriate precautions to protect themselves from exposure to the virus, and seek medical care early, if experiencing symptoms, such as fever, cough or difficulty breathing.\n",
            "\n",
            "Is it safe for a mother to breastfeed if she is infected with coronavirus?\n",
            "\n",
            "All mothers in affected and at-risk areas who have symptoms of fever, cough or difficulty breathing, should seek medical care early, and follow instructions from a health care provider.\n",
            "\n",
            "Considering the benefits of breastfeeding and the insignificant role of breastmilk in the transmission of other respiratory viruses, the mother can continue breastfeeding, while applying all the necessary precautions.\n",
            "\n",
            "For symptomatic mothers well enough to breastfeed, this includes wearing a mask when near a child (including during feeding), washing hands before and after contact with the child (including feeding), and cleaning/disinfecting contaminated surfaces – as should be done in all cases where anyone with confirmed or suspected COVID-19 interacts with others, including children.\n",
            "\n",
            "If a mother is too ill, she should be encouraged to express milk and give it to the child via a clean cup and/or spoon – all while following the same infection prevention methods.\n"
          ],
          "name": "stdout"
        }
      ]
    },
    {
      "cell_type": "code",
      "metadata": {
        "id": "ea_tecNlOBdi"
      },
      "source": [
        "GREETING_INPUTS = (\"hello\", \"hi\", \"greetings\", \"sup\", \"what's up\",\"hey\",)\n",
        "GREETING_RESPONSES = [\"hi\", \"hey\", \"*nods*\", \"hi there\", \"hello\", \"I am glad! You are talking to me\"]\n",
        "def greeting(sentence):\n",
        " \n",
        "    for word in sentence.split():\n",
        "        if word.lower() in GREETING_INPUTS:\n",
        "            return random.choice(GREETING_RESPONSES)"
      ],
      "execution_count": 6,
      "outputs": []
    },
    {
      "cell_type": "code",
      "metadata": {
        "id": "2T06f69l9lkN"
      },
      "source": [
        "def index_sort(list_var):\n",
        "  length=len(list_var)\n",
        "  list_index=list(range(0,length))\n",
        "  x=list_var\n",
        "  for i in range(length):\n",
        "    for j in range(length):\n",
        "      if x[list_index[i]]>x[list_index[j]]:\n",
        "        #swap\n",
        "        temp=list_index[i]\n",
        "        list_index[i]=list_index[j]\n",
        "        list_index[j]=temp\n",
        "\n",
        "\n",
        "  return list_index"
      ],
      "execution_count": 7,
      "outputs": []
    },
    {
      "cell_type": "code",
      "metadata": {
        "id": "kqUx6S3mOIVQ"
      },
      "source": [
        "def response(user_response):\n",
        "    sentence_list.append(user_response)\n",
        "    response=''\n",
        "    cm=CountVectorizer().fit_transform(sentence_list)\n",
        "    similarity_scores=cosine_similarity(cm[-1],cm)\n",
        "    similarity_scores_list=similarity_scores.flatten()\n",
        "    index=index_sort(similarity_scores_list)\n",
        "    index=index[1:]\n",
        "    response_flag=0\n",
        "    j=0\n",
        "    for i in range(len(index)):\n",
        "      if similarity_scores_list[index[i]]>0.0:\n",
        "        response=response+''+sentence_list[index[i]]\n",
        "        response_flag=1\n",
        "        j=j+1\n",
        "        if j>5:\n",
        "          break\n",
        "\n",
        "    if response_flag==0:\n",
        "      response=response+' '+\" not found\"\n",
        "\n",
        "    sentence_list.remove(user_response)\n",
        "    return response"
      ],
      "execution_count": 8,
      "outputs": []
    },
    {
      "cell_type": "code",
      "metadata": {
        "colab": {
          "base_uri": "https://localhost:8080/"
        },
        "id": "aLq28jVrORpf",
        "outputId": "9b61b971-45fe-46ea-ecf9-e2a88d174f37"
      },
      "source": [
        "flag=True\n",
        "print(\"ROBO: My name is Robo. I will answer your queries about Chatbots. If you want to exit, type Bye!\")\n",
        "while(flag==True):\n",
        "    user_response = input()\n",
        "    user_response=user_response.lower()\n",
        "    if(user_response!='bye'):\n",
        "        if(user_response=='thanks' or user_response=='thank you' ):\n",
        "            flag=False\n",
        "            print(\"ROBO: You are welcome..\")\n",
        "        else:\n",
        "            if(greeting(user_response)!=None):\n",
        "                print(\"ROBO: \"+greeting(user_response))\n",
        "            else:\n",
        "                print(\"ROBO: \"+response(user_response))\n",
        "    else:\n",
        "        flag=False\n",
        "        print(\"ROBO: Bye! take care..\")"
      ],
      "execution_count": 10,
      "outputs": [
        {
          "output_type": "stream",
          "text": [
            "ROBO: My name is Robo. I will answer your queries about Chatbots. If you want to exit, type Bye!\n",
            "bye\n",
            "ROBO: Bye! take care..\n"
          ],
          "name": "stdout"
        }
      ]
    },
    {
      "cell_type": "code",
      "metadata": {
        "id": "sCDbFd5oe0uz"
      },
      "source": [
        ""
      ],
      "execution_count": null,
      "outputs": []
    }
  ]
}